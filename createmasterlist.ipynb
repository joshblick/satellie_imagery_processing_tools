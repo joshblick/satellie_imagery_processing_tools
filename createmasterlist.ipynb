{
 "cells": [
  {
   "cell_type": "code",
   "execution_count": 72,
   "id": "cff03e2b",
   "metadata": {},
   "outputs": [],
   "source": [
    "def parse_image_name(i, image_name, store_name, directory, random_state):\n",
    "    #split it based on the seperating \"_\"\n",
    "    split_parts = image_name.replace(\" \", \"_\").split(\"_\")\n",
    "    #the image name could have either 3 parts (not a duplicate) or 4 parts (a duplicate with a suffix)\n",
    "    number_of_parts = len(split_parts)\n",
    "    \n",
    "    data_point = {\"id\": int(0), \n",
    "                  \"store_name\": store_name, \n",
    "                  \"store_id\": int(0),\n",
    "                  \"year\": int(0), \n",
    "                  \"month\": int(0), \n",
    "                  \"instance\": int(0), \n",
    "                  \"directory\": \"\", \n",
    "                  \"machine_no\": random_state}\n",
    "    if (len(split_parts[1])>2):\n",
    "        print(\"image {} is not named in accordance with the convention (year month swap)\".format(image_name))\n",
    "        return None\n",
    "    if (len(split_parts[-1])==1)&(int(split_parts[-1])<=1):\n",
    "        print(\"image {} is not named in accordance with the convention (2nd isntance labelled 0 or 1)\".format(image_name))\n",
    "        return None\n",
    "    if number_of_parts==3:\n",
    "        #is a normal part\n",
    "        data_point[\"id\"] = i\n",
    "        data_point[\"store_id\"] = int(split_parts[0])\n",
    "        data_point[\"month\"] = int(split_parts[1])\n",
    "        data_point[\"year\"] = int(split_parts[2])\n",
    "        data_point[\"directory\"] = directory\n",
    "        \n",
    "        return data_point\n",
    "    elif number_of_parts==4:\n",
    "        #with a suffix\n",
    "        data_point[\"id\"] = i\n",
    "        data_point[\"store_id\"] = int(split_parts[0])\n",
    "        data_point[\"month\"] = int(split_parts[1])\n",
    "        data_point[\"year\"] = int(split_parts[2])\n",
    "        data_point[\"instance\"] = int(split_parts[3])\n",
    "        data_point[\"directory\"] = directory\n",
    "        \n",
    "        return data_point\n",
    "    else:\n",
    "        print(\"image {} is not named in accordance with the convention\".format(image_name))\n",
    "        return None"
   ]
  },
  {
   "cell_type": "code",
   "execution_count": 73,
   "id": "2df7bc52",
   "metadata": {},
   "outputs": [],
   "source": [
    "# our starting folder\n",
    "import os\n",
    "import random\n",
    "\n",
    "starting_folder = r\"C:\\Users\\paperspace\\Documents\\02 Imagery Collection\"\n",
    "os.chdir(starting_folder)\n",
    "# we get a list of the stores in this folder\n",
    "i = 1\n",
    "data = []\n",
    "for folder, _, images in os.walk(\".\", topdown=False):\n",
    "    try:\n",
    "        if folder not in (\".\\All\", \".\\Machine 1\", \".\\Machine 2\", \".\"):\n",
    "            store_name = folder.replace(\".\\\\\", \"\").split(\"_\")[1]\n",
    "    except:\n",
    "        print(folder)\n",
    "    for image_name in images:\n",
    "        #split image name and parse in if a jpg\n",
    "        split_name = image_name.split(\".\")\n",
    "        if split_name[1]==\"jpg\":\n",
    "            image_dir = os.path.join(starting_folder, folder.replace(\".\\\\\",\"\"), image_name)\n",
    "            data.append(parse_image_name(i, split_name[0], store_name, image_dir, random.randint(1, 2)))\n",
    "            i+=1"
   ]
  },
  {
   "cell_type": "code",
   "execution_count": 74,
   "id": "6f2bceed",
   "metadata": {},
   "outputs": [
    {
     "name": "stdout",
     "output_type": "stream",
     "text": [
      "9796\n"
     ]
    }
   ],
   "source": [
    "i=1\n",
    "for dict in data:\n",
    "    i+=1\n",
    "print(i)"
   ]
  },
  {
   "cell_type": "code",
   "execution_count": 75,
   "id": "f8ba4a47",
   "metadata": {},
   "outputs": [],
   "source": [
    "import pandas as pd\n",
    "import pickle\n",
    "df = pd.DataFrame(data)"
   ]
  },
  {
   "cell_type": "code",
   "execution_count": 76,
   "id": "c4fb31dd",
   "metadata": {},
   "outputs": [],
   "source": [
    "df.to_csv(\"image_reference.csv\", index=False)"
   ]
  },
  {
   "cell_type": "code",
   "execution_count": 77,
   "id": "c133f21e",
   "metadata": {},
   "outputs": [],
   "source": [
    "pickle.dump(data, open(\"image_reference.pickle\", \"wb\"))"
   ]
  },
  {
   "cell_type": "code",
   "execution_count": 78,
   "id": "e806b3e5",
   "metadata": {},
   "outputs": [
    {
     "name": "stdout",
     "output_type": "stream",
     "text": [
      "4803\n"
     ]
    }
   ],
   "source": [
    "i=1\n",
    "for row in data:\n",
    "    if row[\"machine_no\"]==1:\n",
    "        i+=1\n",
    "print(i)"
   ]
  },
  {
   "cell_type": "code",
   "execution_count": null,
   "id": "127df156",
   "metadata": {},
   "outputs": [],
   "source": []
  }
 ],
 "metadata": {
  "kernelspec": {
   "display_name": "Python 3 (ipykernel)",
   "language": "python",
   "name": "python3"
  },
  "language_info": {
   "codemirror_mode": {
    "name": "ipython",
    "version": 3
   },
   "file_extension": ".py",
   "mimetype": "text/x-python",
   "name": "python",
   "nbconvert_exporter": "python",
   "pygments_lexer": "ipython3",
   "version": "3.7.6"
  }
 },
 "nbformat": 4,
 "nbformat_minor": 5
}
